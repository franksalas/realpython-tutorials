{
 "cells": [
  {
   "cell_type": "markdown",
   "metadata": {},
   "source": [
    "# More Precise Types\n",
    "## Type Hints\n",
    "- python supports optional type hints, typically as annotation on your code\n",
    "    - in this function we state that the variable `number` should be a float & that the function`double()` should return a float number\n",
    "    - they are hints, and not enforced in runtime\n",
    "\n",
    "```python\n",
    "def double(number: float) -> float:\n",
    "    return 2 * number\n",
    "```"
   ]
  },
  {
   "cell_type": "code",
   "execution_count": 1,
   "metadata": {},
   "outputs": [],
   "source": [
    "def double(number: float) -> float:\n",
    "    return 2 * number"
   ]
  },
  {
   "cell_type": "code",
   "execution_count": 4,
   "metadata": {},
   "outputs": [
    {
     "data": {
      "text/plain": [
       "6.28"
      ]
     },
     "execution_count": 4,
     "metadata": {},
     "output_type": "execute_result"
    }
   ],
   "source": [
    "double(3.14)"
   ]
  },
  {
   "cell_type": "code",
   "execution_count": 5,
   "metadata": {},
   "outputs": [
    {
     "data": {
      "text/plain": [
       "'I am a cloudI am a cloud'"
      ]
     },
     "execution_count": 5,
     "metadata": {},
     "output_type": "execute_result"
    }
   ],
   "source": [
    "double(\"I am a cloud\")"
   ]
  },
  {
   "cell_type": "markdown",
   "metadata": {},
   "source": [
    "## Static type checkers\n",
    "- type nints allow staticn type checkers to do type checking of your code\n",
    "- similar to how a complier catches type errors in other languages\n",
    "- we will use `Mypy` as the static type checker\n",
    "\n",
    "```bash\n",
    "conda install mypy\n",
    "```"
   ]
  },
  {
   "cell_type": "code",
   "execution_count": 6,
   "metadata": {},
   "outputs": [
    {
     "name": "stdout",
     "output_type": "stream",
     "text": [
      "Collecting package metadata (current_repodata.json): done\n",
      "Solving environment: done\n",
      "\n",
      "## Package Plan ##\n",
      "\n",
      "  environment location: /home/salas/miniconda3/envs/realpython\n",
      "\n",
      "  added / updated specs:\n",
      "    - mypy\n",
      "\n",
      "\n",
      "The following packages will be downloaded:\n",
      "\n",
      "    package                    |            build\n",
      "    ---------------------------|-----------------\n",
      "    mypy-0.782                 |             py_0         1.4 MB\n",
      "    mypy_extensions-0.4.3      |           py38_0           9 KB\n",
      "    psutil-5.7.2               |   py38h7b6447c_0         330 KB\n",
      "    typed-ast-1.4.1            |   py38h7b6447c_0         189 KB\n",
      "    typing_extensions-3.7.4.3  |             py_0          28 KB\n",
      "    ------------------------------------------------------------\n",
      "                                           Total:         1.9 MB\n",
      "\n",
      "The following NEW packages will be INSTALLED:\n",
      "\n",
      "  mypy               pkgs/main/noarch::mypy-0.782-py_0\n",
      "  mypy_extensions    pkgs/main/linux-64::mypy_extensions-0.4.3-py38_0\n",
      "  psutil             pkgs/main/linux-64::psutil-5.7.2-py38h7b6447c_0\n",
      "  typed-ast          pkgs/main/linux-64::typed-ast-1.4.1-py38h7b6447c_0\n",
      "  typing_extensions  pkgs/main/noarch::typing_extensions-3.7.4.3-py_0\n",
      "\n",
      "\n",
      "\n",
      "Downloading and Extracting Packages\n",
      "mypy_extensions-0.4. | 9 KB      | ##################################### | 100% \n",
      "typed-ast-1.4.1      | 189 KB    | ##################################### | 100% \n",
      "typing_extensions-3. | 28 KB     | ##################################### | 100% \n",
      "psutil-5.7.2         | 330 KB    | ##################################### | 100% \n",
      "mypy-0.782           | 1.4 MB    | ##################################### | 100% \n",
      "Preparing transaction: done\n",
      "Verifying transaction: done\n",
      "Executing transaction: done\n"
     ]
    }
   ],
   "source": [
    "! conda install mypy -y"
   ]
  },
  {
   "cell_type": "code",
   "execution_count": null,
   "metadata": {},
   "outputs": [],
   "source": []
  },
  {
   "cell_type": "markdown",
   "metadata": {},
   "source": [
    "## Literal Type\n",
    "- Literal types indicate that a parameter or returned value is constrained to on eor more specific *literal* values\n",
    "    - only returns two values\n",
    "```python\n",
    "def get_status(port:int) - > Literal['connected', 'disconnected']:\n",
    "    ...\n",
    "```"
   ]
  },
  {
   "cell_type": "code",
   "execution_count": null,
   "metadata": {},
   "outputs": [],
   "source": []
  },
  {
   "cell_type": "code",
   "execution_count": null,
   "metadata": {},
   "outputs": [],
   "source": []
  },
  {
   "cell_type": "code",
   "execution_count": 19,
   "metadata": {},
   "outputs": [
    {
     "name": "stdout",
     "output_type": "stream",
     "text": [
      "\u001b[1m\u001b[32mSuccess: no issues found in 1 source file\u001b[m\n"
     ]
    }
   ],
   "source": [
    "!mypy draw_line.py"
   ]
  },
  {
   "cell_type": "code",
   "execution_count": null,
   "metadata": {},
   "outputs": [],
   "source": []
  },
  {
   "cell_type": "code",
   "execution_count": 20,
   "metadata": {},
   "outputs": [
    {
     "name": "stdout",
     "output_type": "stream",
     "text": [
      "draw_line.py:31: \u001b[1m\u001b[31merror:\u001b[m Argument 1 to \u001b[m\u001b[1m\"draw_line\"\u001b[m has incompatible type \u001b[m\u001b[1m\"Literal['up']\"\u001b[m; expected \u001b[m\u001b[1m\"Union[Literal['horizontal'], Literal['vertical']]\"\u001b[m\u001b[m\n",
      "\u001b[1m\u001b[31mFound 1 error in 1 file (checked 1 source file)\u001b[m\n"
     ]
    }
   ],
   "source": [
    "!mypy draw_line.py"
   ]
  },
  {
   "cell_type": "code",
   "execution_count": 23,
   "metadata": {},
   "outputs": [],
   "source": [
    "!python calculator.py"
   ]
  },
  {
   "cell_type": "markdown",
   "metadata": {},
   "source": [
    "## Final\n",
    "- The final qualifier specifies that a variable or attribute should not be reassigned, redefined, or overridden.\n",
    "\n",
    "- a new `@final` decorator can be applied to classes and methods\n",
    "    - `@final` classes decorated can't be sublcassed\n",
    "    - `@final` methods can't be overrridden by subclasses\n",
    "    \n",
    "    "
   ]
  },
  {
   "cell_type": "code",
   "execution_count": 25,
   "metadata": {},
   "outputs": [
    {
     "name": "stdout",
     "output_type": "stream",
     "text": [
      "final_id.py:9: \u001b[1m\u001b[31merror:\u001b[m Cannot assign to final name \u001b[m\u001b[1m\"ID\"\u001b[m\u001b[m\n",
      "\u001b[1m\u001b[31mFound 1 error in 1 file (checked 1 source file)\u001b[m\n"
     ]
    }
   ],
   "source": [
    "!mypy final_id.py"
   ]
  },
  {
   "cell_type": "markdown",
   "metadata": {},
   "source": [
    "## TypedDict\n",
    "- can be used to specify types for keys and values in a dict using a notation that is similary to the typed `NamedTuple`\n",
    "- traditionally, dicts have been annotated using `Dict`\n",
    "- `Dict` inly allows one type for the keys and one type for the values\n",
    "    - `Dict[str,Any]`"
   ]
  },
  {
   "cell_type": "code",
   "execution_count": 28,
   "metadata": {},
   "outputs": [
    {
     "name": "stdout",
     "output_type": "stream",
     "text": [
      "# typed_dict.py\n",
      "\n",
      "from typing import TypedDict\n",
      "\n",
      "class PythonVersion(TypedDict):\n",
      "    version: str\n",
      "    release_year: int\n",
      "\n",
      "py38 = PythonVersion(version=\"3.8\", release_year=2019)\n"
     ]
    }
   ],
   "source": [
    "!cat typed_dict.py"
   ]
  },
  {
   "cell_type": "code",
   "execution_count": 26,
   "metadata": {},
   "outputs": [
    {
     "name": "stdout",
     "output_type": "stream",
     "text": [
      "\u001b[1m\u001b[32mSuccess: no issues found in 1 source file\u001b[m\n"
     ]
    }
   ],
   "source": [
    "!mypy typed_dict.py"
   ]
  },
  {
   "cell_type": "code",
   "execution_count": 29,
   "metadata": {},
   "outputs": [],
   "source": [
    "from typed_dict import *"
   ]
  },
  {
   "cell_type": "code",
   "execution_count": 30,
   "metadata": {},
   "outputs": [
    {
     "data": {
      "text/plain": [
       "{'version': '3.8', 'release_year': 2019}"
      ]
     },
     "execution_count": 30,
     "metadata": {},
     "output_type": "execute_result"
    }
   ],
   "source": [
    "py38"
   ]
  },
  {
   "cell_type": "code",
   "execution_count": 31,
   "metadata": {},
   "outputs": [
    {
     "data": {
      "text/plain": [
       "dict"
      ]
     },
     "execution_count": 31,
     "metadata": {},
     "output_type": "execute_result"
    }
   ],
   "source": [
    "type(py38)"
   ]
  },
  {
   "cell_type": "markdown",
   "metadata": {},
   "source": [
    "## Protocols\n",
    "- Protocols ar a way of formalizing Pythons suppor tfor duck typing\n",
    "- The types or the class of an object is less important thatn the methods it defines.\n",
    "- instead of checking for the class or type, check the object for the presence of specific methods and/or attributes\n",
    "\n",
    "- You can define a protocol that can identify all the objects with a particular attribute\n",
    "- "
   ]
  },
  {
   "cell_type": "code",
   "execution_count": 33,
   "metadata": {},
   "outputs": [
    {
     "name": "stdout",
     "output_type": "stream",
     "text": [
      "\n",
      "# protocol.py\n",
      "\n",
      "from typing import Protocol\n",
      "\n",
      "class Named(Protocol):\n",
      "    name: str\n",
      "\n",
      "def greet(obj: Named) -> None:\n",
      "    print(f\"Hi {obj.name}\")\n",
      "\n",
      "class Dog:\n",
      "    ...\n",
      "\n",
      "x = Dog()\n",
      "\n",
      "greet(x)\n",
      "\n",
      "\n",
      "\n",
      "\n",
      "# # protocol.py\n",
      "\n",
      "# from typing import Protocol\n",
      "\n",
      "# class Named(Protocol):\n",
      "#     name: str\n",
      "\n",
      "# def greet(obj: Named) -> None:\n",
      "#     print(f\"Hi {obj.name}\")\n",
      "\n",
      "# class Dog:\n",
      "#     name = 'Good Dog'\n",
      "\n",
      "# x = Dog()\n",
      "\n",
      "# greet(x)"
     ]
    }
   ],
   "source": [
    "!cat protocol.py"
   ]
  },
  {
   "cell_type": "code",
   "execution_count": 32,
   "metadata": {},
   "outputs": [
    {
     "name": "stdout",
     "output_type": "stream",
     "text": [
      "protocol.py:17: \u001b[1m\u001b[31merror:\u001b[m Argument 1 to \u001b[m\u001b[1m\"greet\"\u001b[m has incompatible type \u001b[m\u001b[1m\"Dog\"\u001b[m; expected \u001b[m\u001b[1m\"Named\"\u001b[m\u001b[m\n",
      "\u001b[1m\u001b[31mFound 1 error in 1 file (checked 1 source file)\u001b[m\n"
     ]
    }
   ],
   "source": [
    "!mypy protocol.py"
   ]
  },
  {
   "cell_type": "code",
   "execution_count": 34,
   "metadata": {},
   "outputs": [
    {
     "name": "stdout",
     "output_type": "stream",
     "text": [
      "\u001b[1m\u001b[32mSuccess: no issues found in 1 source file\u001b[m\n"
     ]
    }
   ],
   "source": [
    "!mypy protocol.py"
   ]
  },
  {
   "cell_type": "code",
   "execution_count": null,
   "metadata": {},
   "outputs": [],
   "source": []
  }
 ],
 "metadata": {
  "kernelspec": {
   "display_name": "Python 3",
   "language": "python",
   "name": "python3"
  },
  "language_info": {
   "codemirror_mode": {
    "name": "ipython",
    "version": 3
   },
   "file_extension": ".py",
   "mimetype": "text/x-python",
   "name": "python",
   "nbconvert_exporter": "python",
   "pygments_lexer": "ipython3",
   "version": "3.8.5"
  }
 },
 "nbformat": 4,
 "nbformat_minor": 4
}
