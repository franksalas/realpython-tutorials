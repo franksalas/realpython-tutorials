{
 "cells": [
  {
   "cell_type": "markdown",
   "metadata": {},
   "source": [
    "# Section 5: Parallel Processing With Multiprocessing"
   ]
  },
  {
   "cell_type": "code",
   "execution_count": 1,
   "metadata": {},
   "outputs": [],
   "source": [
    "import collections\n",
    "\n",
    "\n",
    "Scientist = collections.namedtuple('Scientist', [\n",
    "    'name',\n",
    "    'field',\n",
    "    'born',\n",
    "    'nobel',\n",
    "])\n",
    "\n",
    "scientists = (\n",
    "    Scientist(name='Ada Lovelace', field='math', born=1815, nobel=False),\n",
    "    Scientist(name='Emmy Noether', field='math', born=1882, nobel=False),\n",
    "    Scientist(name='Marie Curie', field='math', born=1867, nobel=True),\n",
    "    Scientist(name='Tu Youyou', field='physics', born=1930, nobel=True),\n",
    "    Scientist(name='Ada Yonath', field='chemistry', born=1939, nobel=True),\n",
    "    Scientist(name='Vera Rubin', field='chemistry', born=1928, nobel=False),\n",
    "    Scientist(name='Sally Ride', field='physics', born=1951, nobel=False),\n",
    ")"
   ]
  },
  {
   "cell_type": "code",
   "execution_count": 39,
   "metadata": {},
   "outputs": [],
   "source": [
    "import time\n",
    "from pprint import pprint\n",
    "def transform(x):\n",
    "    print(f'\\nProcessing record {x.name}')\n",
    "    time.sleep(1)\n",
    "    print(f'\\nDone processing record{x.name}')\n",
    "    return {'name': x.name, 'age':2017- x.born}"
   ]
  },
  {
   "cell_type": "code",
   "execution_count": 40,
   "metadata": {},
   "outputs": [
    {
     "name": "stdout",
     "output_type": "stream",
     "text": [
      "\n",
      "Processing record Ada Lovelace\n",
      "\n",
      "Done processing recordAda Lovelace\n",
      "\n",
      "Processing record Emmy Noether\n",
      "\n",
      "Done processing recordEmmy Noether\n",
      "\n",
      "Processing record Marie Curie\n",
      "\n",
      "Done processing recordMarie Curie\n",
      "\n",
      "Processing record Tu Youyou\n",
      "\n",
      "Done processing recordTu Youyou\n",
      "\n",
      "Processing record Ada Yonath\n",
      "\n",
      "Done processing recordAda Yonath\n",
      "\n",
      "Processing record Vera Rubin\n",
      "\n",
      "Done processing recordVera Rubin\n",
      "\n",
      "Processing record Sally Ride\n",
      "\n",
      "Done processing recordSally Ride\n"
     ]
    }
   ],
   "source": [
    "result = tuple(map(\n",
    "    transform,\n",
    "    scientists))"
   ]
  },
  {
   "cell_type": "code",
   "execution_count": 41,
   "metadata": {},
   "outputs": [
    {
     "data": {
      "text/plain": [
       "({'name': 'Ada Lovelace', 'age': 202},\n",
       " {'name': 'Emmy Noether', 'age': 135},\n",
       " {'name': 'Marie Curie', 'age': 150},\n",
       " {'name': 'Tu Youyou', 'age': 87},\n",
       " {'name': 'Ada Yonath', 'age': 78},\n",
       " {'name': 'Vera Rubin', 'age': 89},\n",
       " {'name': 'Sally Ride', 'age': 66})"
      ]
     },
     "execution_count": 41,
     "metadata": {},
     "output_type": "execute_result"
    }
   ],
   "source": [
    "result"
   ]
  },
  {
   "cell_type": "markdown",
   "metadata": {},
   "source": [
    "# The multiprocessing Module\n"
   ]
  },
  {
   "cell_type": "code",
   "execution_count": 42,
   "metadata": {},
   "outputs": [],
   "source": [
    "import multiprocessing"
   ]
  },
  {
   "cell_type": "markdown",
   "metadata": {},
   "source": [
    "# Measuring Execution Time in the multiprocessing Testbed"
   ]
  },
  {
   "cell_type": "code",
   "execution_count": 43,
   "metadata": {},
   "outputs": [
    {
     "name": "stdout",
     "output_type": "stream",
     "text": [
      "\n",
      "Processing record Ada Lovelace\n",
      "\n",
      "Done processing recordAda Lovelace\n",
      "\n",
      "Processing record Emmy Noether\n",
      "\n",
      "Done processing recordEmmy Noether\n",
      "\n",
      "Processing record Marie Curie\n",
      "\n",
      "Done processing recordMarie Curie\n",
      "\n",
      "Processing record Tu Youyou\n",
      "\n",
      "Done processing recordTu Youyou\n",
      "\n",
      "Processing record Ada Yonath\n",
      "\n",
      "Done processing recordAda Yonath\n",
      "\n",
      "Processing record Vera Rubin\n",
      "\n",
      "Done processing recordVera Rubin\n",
      "\n",
      "Processing record Sally Ride\n",
      "\n",
      "Done processing recordSally Ride\n",
      "\n",
      "Time to complete:7.00\n"
     ]
    }
   ],
   "source": [
    "start = time.time()\n",
    "result = tuple(map(\n",
    "    transform,\n",
    "    scientists))\n",
    "\n",
    "end = time.time()\n",
    "\n",
    "print(f'\\nTime to complete:{end - start:.2f}')"
   ]
  },
  {
   "cell_type": "markdown",
   "metadata": {},
   "source": [
    "# How to Create a multiprocessing.Pool() Object"
   ]
  },
  {
   "cell_type": "code",
   "execution_count": 44,
   "metadata": {},
   "outputs": [
    {
     "name": "stdout",
     "output_type": "stream",
     "text": [
      "Help on Pool in module multiprocessing.pool object:\n",
      "\n",
      "class Pool(builtins.object)\n",
      " |  Pool(processes=None, initializer=None, initargs=(), maxtasksperchild=None, context=None)\n",
      " |  \n",
      " |  Class which supports an async version of applying functions to arguments.\n",
      " |  \n",
      " |  Methods defined here:\n",
      " |  \n",
      " |  __del__(self, _warn=<built-in function warn>, RUN='RUN')\n",
      " |      # Copy globals as function locals to make sure that they are available\n",
      " |      # during Python shutdown when the Pool is destroyed.\n",
      " |  \n",
      " |  __enter__(self)\n",
      " |  \n",
      " |  __exit__(self, exc_type, exc_val, exc_tb)\n",
      " |  \n",
      " |  __init__(self, processes=None, initializer=None, initargs=(), maxtasksperchild=None, context=None)\n",
      " |      Initialize self.  See help(type(self)) for accurate signature.\n",
      " |  \n",
      " |  __reduce__(self)\n",
      " |      Helper for pickle.\n",
      " |  \n",
      " |  __repr__(self)\n",
      " |      Return repr(self).\n",
      " |  \n",
      " |  apply(self, func, args=(), kwds={})\n",
      " |      Equivalent of `func(*args, **kwds)`.\n",
      " |      Pool must be running.\n",
      " |  \n",
      " |  apply_async(self, func, args=(), kwds={}, callback=None, error_callback=None)\n",
      " |      Asynchronous version of `apply()` method.\n",
      " |  \n",
      " |  close(self)\n",
      " |  \n",
      " |  imap(self, func, iterable, chunksize=1)\n",
      " |      Equivalent of `map()` -- can be MUCH slower than `Pool.map()`.\n",
      " |  \n",
      " |  imap_unordered(self, func, iterable, chunksize=1)\n",
      " |      Like `imap()` method but ordering of results is arbitrary.\n",
      " |  \n",
      " |  join(self)\n",
      " |  \n",
      " |  map(self, func, iterable, chunksize=None)\n",
      " |      Apply `func` to each element in `iterable`, collecting the results\n",
      " |      in a list that is returned.\n",
      " |  \n",
      " |  map_async(self, func, iterable, chunksize=None, callback=None, error_callback=None)\n",
      " |      Asynchronous version of `map()` method.\n",
      " |  \n",
      " |  starmap(self, func, iterable, chunksize=None)\n",
      " |      Like `map()` method but the elements of the `iterable` are expected to\n",
      " |      be iterables as well and will be unpacked as arguments. Hence\n",
      " |      `func` and (a, b) becomes func(a, b).\n",
      " |  \n",
      " |  starmap_async(self, func, iterable, chunksize=None, callback=None, error_callback=None)\n",
      " |      Asynchronous version of `starmap()` method.\n",
      " |  \n",
      " |  terminate(self)\n",
      " |  \n",
      " |  ----------------------------------------------------------------------\n",
      " |  Static methods defined here:\n",
      " |  \n",
      " |  Process(ctx, *args, **kwds)\n",
      " |  \n",
      " |  ----------------------------------------------------------------------\n",
      " |  Data descriptors defined here:\n",
      " |  \n",
      " |  __dict__\n",
      " |      dictionary for instance variables (if defined)\n",
      " |  \n",
      " |  __weakref__\n",
      " |      list of weak references to the object (if defined)\n",
      "\n"
     ]
    }
   ],
   "source": [
    "help(multiprocessing.Pool())"
   ]
  },
  {
   "cell_type": "code",
   "execution_count": 46,
   "metadata": {},
   "outputs": [
    {
     "name": "stdout",
     "output_type": "stream",
     "text": [
      "\n",
      "Processing record Ada Lovelace\n",
      "Processing record Emmy Noether\n",
      "Processing record Tu Youyou\n",
      "Processing record Marie Curie\n",
      "Processing record Ada Yonath\n",
      "Processing record Vera Rubin\n",
      "Processing record Sally Ride\n",
      "\n",
      "\n",
      "\n",
      "\n",
      "\n",
      "\n",
      "\n",
      "Done processing recordAda Lovelace\n",
      "Done processing recordMarie Curie\n",
      "Done processing recordAda Yonath\n",
      "\n",
      "Done processing recordTu Youyou\n",
      "Done processing recordEmmy Noether\n",
      "Done processing recordSally Ride\n",
      "Done processing recordVera Rubin\n",
      "\n",
      "\n",
      "\n",
      "\n",
      "\n",
      "Time to complete:1.16\n",
      "\n"
     ]
    }
   ],
   "source": [
    "start = time.time()\n",
    "\n",
    "\n",
    "pool = multiprocessing.Pool()\n",
    "result = pool.map(transform,scientists)\n",
    "\n",
    "end = time.time()\n",
    "\n",
    "print(f'\\nTime to complete:{end - start:.2f}')"
   ]
  },
  {
   "cell_type": "markdown",
   "metadata": {},
   "source": [
    "# How to Use multiprocessing.Pool()\n"
   ]
  },
  {
   "cell_type": "code",
   "execution_count": 48,
   "metadata": {},
   "outputs": [
    {
     "name": "stdout",
     "output_type": "stream",
     "text": [
      "\n",
      "Process 4377 working record Ada Lovelace\n",
      "Process 4379 working record Marie Curie\n",
      "Process 4378 working record Emmy Noether\n",
      "Process 4381 working record Ada Yonath\n",
      "Process 4380 working record Tu Youyou\n",
      "Process 4382 working record Vera Rubin\n",
      "Process 4383 working record Sally Ride\n",
      "\n",
      "\n",
      "\n",
      "\n",
      "\n",
      "\n",
      "\n",
      "pProcess 4377 done processing recordAda Lovelace\n",
      "pProcess 4381 done processing recordAda Yonath\n",
      "pProcess 4378 done processing recordEmmy Noether\n",
      "\n",
      "pProcess 4380 done processing recordTu Youyou\n",
      "\n",
      "pProcess 4383 done processing recordSally Ride\n",
      "pProcess 4379 done processing recordMarie Curie\n",
      "pProcess 4382 done processing recordVera Rubin\n",
      "\n",
      "\n",
      "\n",
      "\n",
      "Time to complete:1.15\n",
      "\n"
     ]
    }
   ],
   "source": [
    "# add logging\n",
    "import os\n",
    "\n",
    "\n",
    "def transform(x):\n",
    "    print(f'\\nProcess {os.getpid()} working record {x.name}')\n",
    "    time.sleep(1)\n",
    "    print(f'\\nProcess {os.getpid()} done processing record{x.name}')\n",
    "    return {'name': x.name, 'age':2017- x.born}\n",
    "\n",
    "\n",
    "start = time.time()\n",
    "\n",
    "\n",
    "pool = multiprocessing.Pool()\n",
    "result = pool.map(transform,scientists)\n",
    "\n",
    "end = time.time()\n",
    "\n",
    "print(f'\\nTime to complete:{end - start:.2f}')"
   ]
  },
  {
   "cell_type": "code",
   "execution_count": null,
   "metadata": {},
   "outputs": [],
   "source": [
    "### Put a limit on the process"
   ]
  },
  {
   "cell_type": "code",
   "execution_count": 49,
   "metadata": {},
   "outputs": [
    {
     "name": "stdout",
     "output_type": "stream",
     "text": [
      "\n",
      "Process 4452 working record Ada Lovelace\n",
      "\n",
      "pProcess 4452 done processing recordAda Lovelace\n",
      "\n",
      "Process 4452 working record Emmy Noether\n",
      "\n",
      "pProcess 4452 done processing recordEmmy Noether\n",
      "\n",
      "Process 4452 working record Marie Curie\n",
      "\n",
      "pProcess 4452 done processing recordMarie Curie\n",
      "\n",
      "Process 4452 working record Tu Youyou\n",
      "\n",
      "pProcess 4452 done processing recordTu Youyou\n",
      "\n",
      "Process 4452 working record Ada Yonath\n",
      "\n",
      "pProcess 4452 done processing recordAda Yonath\n",
      "\n",
      "Process 4452 working record Vera Rubin\n",
      "\n",
      "pProcess 4452 done processing recordVera Rubin\n",
      "\n",
      "Process 4452 working record Sally Ride\n",
      "\n",
      "pProcess 4452 done processing recordSally Ride\n",
      "\n",
      "Time to complete:7.07\n"
     ]
    }
   ],
   "source": [
    "# add logging\n",
    "import os\n",
    "\n",
    "\n",
    "def transform(x):\n",
    "    print(f'\\nProcess {os.getpid()} working record {x.name}')\n",
    "    time.sleep(1)\n",
    "    print(f'\\nProcess {os.getpid()} done processing record{x.name}')\n",
    "    return {'name': x.name, 'age':2017- x.born}\n",
    "\n",
    "\n",
    "start = time.time()\n",
    "\n",
    "\n",
    "pool = multiprocessing.Pool(processes=1)\n",
    "result = pool.map(transform,scientists)\n",
    "\n",
    "end = time.time()\n",
    "\n",
    "print(f'\\nTime to complete:{end - start:.2f}')"
   ]
  },
  {
   "cell_type": "markdown",
   "metadata": {},
   "source": [
    "## number of process by the total number of records"
   ]
  },
  {
   "cell_type": "code",
   "execution_count": 50,
   "metadata": {},
   "outputs": [
    {
     "name": "stdout",
     "output_type": "stream",
     "text": [
      "\n",
      "Process 4512 working record Ada Lovelace\n",
      "Process 4514 working record Marie Curie\n",
      "Process 4513 working record Emmy Noether\n",
      "Process 4515 working record Tu Youyou\n",
      "Process 4517 working record Vera Rubin\n",
      "Process 4516 working record Ada Yonath\n",
      "Process 4518 working record Sally Ride\n",
      "\n",
      "\n",
      "\n",
      "\n",
      "\n",
      "\n",
      "\n",
      "Process 4513 done processing recordEmmy Noether\n",
      "Process 4512 done processing recordAda Lovelace\n",
      "Process 4516 done processing recordAda Yonath\n",
      "Process 4517 done processing recordVera Rubin\n",
      "Process 4515 done processing recordTu Youyou\n",
      "Process 4514 done processing recordMarie Curie\n",
      "Process 4518 done processing recordSally Ride\n",
      "\n",
      "\n",
      "\n",
      "\n",
      "\n",
      "\n",
      "Time to complete:1.09\n",
      "\n"
     ]
    }
   ],
   "source": [
    "# add logging\n",
    "import os\n",
    "\n",
    "\n",
    "def transform(x):\n",
    "    print(f'\\nProcess {os.getpid()} working record {x.name}')\n",
    "    time.sleep(1)\n",
    "    print(f'\\nProcess {os.getpid()} done processing record{x.name}')\n",
    "    return {'name': x.name, 'age':2017- x.born}\n",
    "\n",
    "\n",
    "start = time.time()\n",
    "\n",
    "\n",
    "pool = multiprocessing.Pool(processes=len(scientists))\n",
    "result = pool.map(transform,scientists)\n",
    "\n",
    "end = time.time()\n",
    "\n",
    "print(f'\\nTime to complete:{end - start:.2f}')"
   ]
  },
  {
   "cell_type": "markdown",
   "metadata": {},
   "source": [
    "# Parallel Processing With multiprocessing: Conclusion"
   ]
  },
  {
   "cell_type": "code",
   "execution_count": null,
   "metadata": {},
   "outputs": [],
   "source": []
  }
 ],
 "metadata": {
  "kernelspec": {
   "display_name": "Python 3",
   "language": "python",
   "name": "python3"
  },
  "language_info": {
   "codemirror_mode": {
    "name": "ipython",
    "version": 3
   },
   "file_extension": ".py",
   "mimetype": "text/x-python",
   "name": "python",
   "nbconvert_exporter": "python",
   "pygments_lexer": "ipython3",
   "version": "3.8.5"
  }
 },
 "nbformat": 4,
 "nbformat_minor": 4
}
