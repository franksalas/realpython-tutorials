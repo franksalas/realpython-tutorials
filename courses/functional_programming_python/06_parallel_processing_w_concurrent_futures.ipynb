{
 "cells": [
  {
   "cell_type": "markdown",
   "metadata": {},
   "source": [
    "# Section 6: Parallel Processing with `concurent.futures`"
   ]
  },
  {
   "cell_type": "code",
   "execution_count": 7,
   "metadata": {},
   "outputs": [],
   "source": [
    "import collections\n",
    "import time\n",
    "import multiprocessing\n",
    "import os\n",
    "\n",
    "\n",
    "\n",
    "Scientist = collections.namedtuple('Scientist', [\n",
    "    'name',\n",
    "    'field',\n",
    "    'born',\n",
    "    'nobel',\n",
    "])\n",
    "\n",
    "scientists = (\n",
    "    Scientist(name='Ada Lovelace', field='math', born=1815, nobel=False),\n",
    "    Scientist(name='Emmy Noether', field='math', born=1882, nobel=False),\n",
    "    Scientist(name='Marie Curie', field='math', born=1867, nobel=True),\n",
    "    Scientist(name='Tu Youyou', field='physics', born=1930, nobel=True),\n",
    "    Scientist(name='Ada Yonath', field='chemistry', born=1939, nobel=True),\n",
    "    Scientist(name='Vera Rubin', field='chemistry', born=1928, nobel=False),\n",
    "    Scientist(name='Sally Ride', field='physics', born=1951, nobel=False),\n",
    ")"
   ]
  },
  {
   "cell_type": "code",
   "execution_count": 9,
   "metadata": {},
   "outputs": [
    {
     "name": "stdout",
     "output_type": "stream",
     "text": [
      "\n",
      "Process 4659 working record Ada Yonath\n",
      "Process 4661 working record Sally Ride\n",
      "Process 4655 working record Ada Lovelace\n",
      "Process 4660 working record Vera Rubin\n",
      "Process 4658 working record Tu Youyou\n",
      "Process 4657 working record Marie Curie\n",
      "Process 4656 working record Emmy Noether\n",
      "\n",
      "\n",
      "\n",
      "\n",
      "\n",
      "\n",
      "\n",
      "Process 4659 done processing recordAda Yonath\n",
      "\n",
      "Process 4660 done processing recordVera Rubin\n",
      "Process 4657 done processing recordMarie Curie\n",
      "Process 4655 done processing recordAda Lovelace\n",
      "Process 4658 done processing recordTu Youyou\n",
      "Process 4661 done processing recordSally Ride\n",
      "Process 4656 done processing recordEmmy Noether\n",
      "\n",
      "\n",
      "\n",
      "\n",
      "\n",
      "Time to complete:1.11\n",
      "\n"
     ]
    }
   ],
   "source": [
    "def transform(x):\n",
    "    print(f'\\nProcess {os.getpid()} working record {x.name}')\n",
    "    time.sleep(1)\n",
    "    print(f'\\nProcess {os.getpid()} done processing record{x.name}')\n",
    "    return {'name': x.name, 'age':2017- x.born}\n",
    "\n",
    "\n",
    "start = time.time()\n",
    "\n",
    "\n",
    "pool = multiprocessing.Pool()\n",
    "result = pool.map(transform,scientists)\n",
    "\n",
    "end = time.time()\n",
    "\n",
    "print(f'\\nTime to complete:{end - start:.2f}')"
   ]
  },
  {
   "cell_type": "markdown",
   "metadata": {},
   "source": [
    "\n",
    "# The concurrent.futures Module\n"
   ]
  },
  {
   "cell_type": "code",
   "execution_count": 10,
   "metadata": {},
   "outputs": [],
   "source": [
    "import concurrent.futures"
   ]
  },
  {
   "cell_type": "code",
   "execution_count": 11,
   "metadata": {},
   "outputs": [
    {
     "name": "stdout",
     "output_type": "stream",
     "text": [
      "\n",
      "Process 4730 working record Ada Lovelace\n",
      "Process 4731 working record Emmy Noether\n",
      "Process 4733 working record Tu Youyou\n",
      "Process 4732 working record Marie Curie\n",
      "Process 4734 working record Ada Yonath\n",
      "Process 4735 working record Vera Rubin\n",
      "Process 4736 working record Sally Ride\n",
      "\n",
      "\n",
      "\n",
      "\n",
      "\n",
      "\n",
      "\n",
      "Process 4731 done processing recordEmmy Noether\n",
      "Process 4732 done processing recordMarie Curie\n",
      "Process 4730 done processing recordAda Lovelace\n",
      "Process 4735 done processing recordVera Rubin\n",
      "Process 4734 done processing recordAda Yonath\n",
      "Process 4736 done processing recordSally Ride\n",
      "Process 4733 done processing recordTu Youyou\n",
      "\n",
      "\n",
      "\n",
      "\n",
      "\n",
      "\n",
      "\n",
      "Time to complete:1.15\n"
     ]
    }
   ],
   "source": [
    "def transform(x):\n",
    "    print(f'\\nProcess {os.getpid()} working record {x.name}')\n",
    "    time.sleep(1)\n",
    "    print(f'\\nProcess {os.getpid()} done processing record{x.name}')\n",
    "    return {'name': x.name, 'age':2017- x.born}\n",
    "\n",
    "\n",
    "start = time.time()\n",
    "\n",
    "\n",
    "with concurrent.futures.ProcessPoolExecutor() as executor:\n",
    "    result = executor.map(transform, scientists)\n",
    "\n",
    "end = time.time()\n",
    "\n",
    "print(f'\\nTime to complete:{end - start:.2f}')"
   ]
  },
  {
   "cell_type": "code",
   "execution_count": 12,
   "metadata": {},
   "outputs": [
    {
     "data": {
      "text/plain": [
       "({'name': 'Ada Lovelace', 'age': 202},\n",
       " {'name': 'Emmy Noether', 'age': 135},\n",
       " {'name': 'Marie Curie', 'age': 150},\n",
       " {'name': 'Tu Youyou', 'age': 87},\n",
       " {'name': 'Ada Yonath', 'age': 78},\n",
       " {'name': 'Vera Rubin', 'age': 89},\n",
       " {'name': 'Sally Ride', 'age': 66})"
      ]
     },
     "execution_count": 12,
     "metadata": {},
     "output_type": "execute_result"
    }
   ],
   "source": [
    "tuple(result)"
   ]
  },
  {
   "cell_type": "markdown",
   "metadata": {},
   "source": [
    "# How Functional Programing Makes Parallel Processing Simple"
   ]
  },
  {
   "cell_type": "markdown",
   "metadata": {},
   "source": [
    "# concurrent.futures vs multiprocessing\n",
    "- multiple options like threads\n",
    "- `concurrent.futures.ThreadPoolExecutor()`"
   ]
  },
  {
   "cell_type": "code",
   "execution_count": 14,
   "metadata": {},
   "outputs": [
    {
     "name": "stdout",
     "output_type": "stream",
     "text": [
      "\n",
      "Process 4578 working record Ada Lovelace\n",
      "\n",
      "Process 4578 working record Emmy Noether\n",
      "\n",
      "Process 4578 working record Marie Curie\n",
      "\n",
      "Process 4578 working record Tu Youyou\n",
      "Process 4578 working record Ada Yonath\n",
      "\n",
      "\n",
      "Process 4578 working record Vera Rubin\n",
      "\n",
      "Process 4578 working record Sally Ride\n",
      "\n",
      "Process 4578 done processing recordMarie Curie\n",
      "Process 4578 done processing recordEmmy Noether\n",
      "\n",
      "Process 4578 done processing recordAda Lovelace\n",
      "\n",
      "\n",
      "Process 4578 done processing recordTu Youyou\n",
      "Process 4578 done processing recordAda Yonath\n",
      "\n",
      "\n",
      "Process 4578 done processing recordVera Rubin\n",
      "\n",
      "Process 4578 done processing recordSally Ride\n",
      "\n",
      "Time to complete:1.00\n"
     ]
    }
   ],
   "source": [
    "def transform(x):\n",
    "    print(f'\\nProcess {os.getpid()} working record {x.name}')\n",
    "    time.sleep(1)\n",
    "    print(f'\\nProcess {os.getpid()} done processing record{x.name}')\n",
    "    return {'name': x.name, 'age':2017- x.born}\n",
    "\n",
    "\n",
    "start = time.time()\n",
    "\n",
    "\n",
    "with concurrent.futures.ThreadPoolExecutor() as executor:\n",
    "    result = executor.map(transform, scientists)\n",
    "\n",
    "end = time.time()\n",
    "\n",
    "print(f'\\nTime to complete:{end - start:.2f}')"
   ]
  },
  {
   "cell_type": "markdown",
   "metadata": {},
   "source": [
    "# When to Use concurrent.futures or multiprocessing\n",
    "- global inerpreter lock problem\n",
    "- python no two trheds can execute python code ath the same time.\n",
    "- `concurrent.futures.ProcessPoolExecutor()` gets around it"
   ]
  },
  {
   "cell_type": "code",
   "execution_count": null,
   "metadata": {},
   "outputs": [],
   "source": []
  }
 ],
 "metadata": {
  "kernelspec": {
   "display_name": "Python 3",
   "language": "python",
   "name": "python3"
  },
  "language_info": {
   "codemirror_mode": {
    "name": "ipython",
    "version": 3
   },
   "file_extension": ".py",
   "mimetype": "text/x-python",
   "name": "python",
   "nbconvert_exporter": "python",
   "pygments_lexer": "ipython3",
   "version": "3.8.5"
  }
 },
 "nbformat": 4,
 "nbformat_minor": 4
}
