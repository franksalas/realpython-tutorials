{
 "cells": [
  {
   "cell_type": "markdown",
   "metadata": {},
   "source": [
    "# Section3: The `map()` function"
   ]
  },
  {
   "cell_type": "code",
   "execution_count": 2,
   "metadata": {},
   "outputs": [],
   "source": [
    "import collections\n",
    "Scientist = collections.namedtuple('Scientist', [\n",
    "    'name',\n",
    "    'field',\n",
    "    'born',\n",
    "    'nobel',\n",
    "])\n",
    "\n",
    "scientists = (\n",
    "    Scientist(name='Ada Lovelace', field='math', born=1815, nobel=False),\n",
    "    Scientist(name='Emmy Noether', field='math', born=1882, nobel=False),\n",
    "    Scientist(name='Marie Curie', field='math', born=1867, nobel=True),\n",
    "    Scientist(name='Tu Youyou', field='physics', born=1930, nobel=True),\n",
    "    Scientist(name='Ada Yonath', field='chemistry', born=1939, nobel=True),\n",
    "    Scientist(name='Vera Rubin', field='chemistry', born=1928, nobel=False),\n",
    "    Scientist(name='Sally Ride', field='physics', born=1951, nobel=False),\n",
    ")"
   ]
  },
  {
   "cell_type": "markdown",
   "metadata": {},
   "source": [
    "# What is the `map()` function\n",
    "\n"
   ]
  },
  {
   "cell_type": "code",
   "execution_count": 3,
   "metadata": {},
   "outputs": [
    {
     "name": "stdout",
     "output_type": "stream",
     "text": [
      "Help on class map in module builtins:\n",
      "\n",
      "class map(object)\n",
      " |  map(func, *iterables) --> map object\n",
      " |  \n",
      " |  Make an iterator that computes the function using arguments from\n",
      " |  each of the iterables.  Stops when the shortest iterable is exhausted.\n",
      " |  \n",
      " |  Methods defined here:\n",
      " |  \n",
      " |  __getattribute__(self, name, /)\n",
      " |      Return getattr(self, name).\n",
      " |  \n",
      " |  __iter__(self, /)\n",
      " |      Implement iter(self).\n",
      " |  \n",
      " |  __next__(self, /)\n",
      " |      Implement next(self).\n",
      " |  \n",
      " |  __reduce__(...)\n",
      " |      Return state information for pickling.\n",
      " |  \n",
      " |  ----------------------------------------------------------------------\n",
      " |  Static methods defined here:\n",
      " |  \n",
      " |  __new__(*args, **kwargs) from builtins.type\n",
      " |      Create and return a new object.  See help(type) for accurate signature.\n",
      "\n"
     ]
    }
   ],
   "source": [
    "help(map)"
   ]
  },
  {
   "cell_type": "code",
   "execution_count": 4,
   "metadata": {},
   "outputs": [
    {
     "data": {
      "text/plain": [
       "(Scientist(name='Ada Lovelace', field='math', born=1815, nobel=False),\n",
       " Scientist(name='Emmy Noether', field='math', born=1882, nobel=False),\n",
       " Scientist(name='Marie Curie', field='math', born=1867, nobel=True),\n",
       " Scientist(name='Tu Youyou', field='physics', born=1930, nobel=True),\n",
       " Scientist(name='Ada Yonath', field='chemistry', born=1939, nobel=True),\n",
       " Scientist(name='Vera Rubin', field='chemistry', born=1928, nobel=False),\n",
       " Scientist(name='Sally Ride', field='physics', born=1951, nobel=False))"
      ]
     },
     "execution_count": 4,
     "metadata": {},
     "output_type": "execute_result"
    }
   ],
   "source": [
    "scientists"
   ]
  },
  {
   "cell_type": "code",
   "execution_count": null,
   "metadata": {},
   "outputs": [],
   "source": []
  },
  {
   "cell_type": "markdown",
   "metadata": {},
   "source": [
    "# How to use the 'map()' function"
   ]
  },
  {
   "cell_type": "code",
   "execution_count": 5,
   "metadata": {},
   "outputs": [],
   "source": [
    "# transform it \n",
    "# contains the name and age of the scientists\n",
    "names_and_ages = tuple(map(\n",
    "    lambda x:{'name': x.name,'age': 2017 - x.born}\n",
    "    ,scientists))"
   ]
  },
  {
   "cell_type": "code",
   "execution_count": 6,
   "metadata": {},
   "outputs": [
    {
     "data": {
      "text/plain": [
       "({'name': 'Ada Lovelace', 'age': 202},\n",
       " {'name': 'Emmy Noether', 'age': 135},\n",
       " {'name': 'Marie Curie', 'age': 150},\n",
       " {'name': 'Tu Youyou', 'age': 87},\n",
       " {'name': 'Ada Yonath', 'age': 78},\n",
       " {'name': 'Vera Rubin', 'age': 89},\n",
       " {'name': 'Sally Ride', 'age': 66})"
      ]
     },
     "execution_count": 6,
     "metadata": {},
     "output_type": "execute_result"
    }
   ],
   "source": [
    "names_and_ages"
   ]
  },
  {
   "cell_type": "markdown",
   "metadata": {},
   "source": [
    "created a new  list without destroying the original"
   ]
  },
  {
   "cell_type": "markdown",
   "metadata": {},
   "source": [
    "# The `map()` function vs GEnerator expressions"
   ]
  },
  {
   "cell_type": "code",
   "execution_count": 8,
   "metadata": {},
   "outputs": [
    {
     "data": {
      "text/plain": [
       "[{'name': 'Ada Lovelace', 'age': 202},\n",
       " {'name': 'Emmy Noether', 'age': 135},\n",
       " {'name': 'Marie Curie', 'age': 150},\n",
       " {'name': 'Tu Youyou', 'age': 87},\n",
       " {'name': 'Ada Yonath', 'age': 78},\n",
       " {'name': 'Vera Rubin', 'age': 89},\n",
       " {'name': 'Sally Ride', 'age': 66}]"
      ]
     },
     "execution_count": 8,
     "metadata": {},
     "output_type": "execute_result"
    }
   ],
   "source": [
    "[{'name':x.name, 'age': 2017 - x.born} for x in scientists]"
   ]
  },
  {
   "cell_type": "code",
   "execution_count": 12,
   "metadata": {},
   "outputs": [
    {
     "data": {
      "text/plain": [
       "({'name': 'Ada Lovelace', 'age': 202},\n",
       " {'name': 'Emmy Noether', 'age': 135},\n",
       " {'name': 'Marie Curie', 'age': 150},\n",
       " {'name': 'Tu Youyou', 'age': 87},\n",
       " {'name': 'Ada Yonath', 'age': 78},\n",
       " {'name': 'Vera Rubin', 'age': 89},\n",
       " {'name': 'Sally Ride', 'age': 66})"
      ]
     },
     "execution_count": 12,
     "metadata": {},
     "output_type": "execute_result"
    }
   ],
   "source": [
    "# better, same results\n",
    "tuple({'name':x.name, 'age': 2017 - x.born} for x in scientists)"
   ]
  },
  {
   "cell_type": "markdown",
   "metadata": {},
   "source": [
    "# Why use the `map()` function"
   ]
  },
  {
   "cell_type": "code",
   "execution_count": 13,
   "metadata": {},
   "outputs": [
    {
     "data": {
      "text/plain": [
       "({'name': 'ADA LOVELACE', 'age': 202},\n",
       " {'name': 'EMMY NOETHER', 'age': 135},\n",
       " {'name': 'MARIE CURIE', 'age': 150},\n",
       " {'name': 'TU YOUYOU', 'age': 87},\n",
       " {'name': 'ADA YONATH', 'age': 78},\n",
       " {'name': 'VERA RUBIN', 'age': 89},\n",
       " {'name': 'SALLY RIDE', 'age': 66})"
      ]
     },
     "execution_count": 13,
     "metadata": {},
     "output_type": "execute_result"
    }
   ],
   "source": [
    "tuple({'name':x.name.upper(), 'age': 2017 - x.born} for x in scientists)"
   ]
  },
  {
   "cell_type": "code",
   "execution_count": 15,
   "metadata": {},
   "outputs": [
    {
     "data": {
      "text/plain": [
       "({'name': 'Ada Lovelace new text', 'age': 202},\n",
       " {'name': 'Emmy Noether new text', 'age': 135},\n",
       " {'name': 'Marie Curie new text', 'age': 150},\n",
       " {'name': 'Tu Youyou new text', 'age': 87},\n",
       " {'name': 'Ada Yonath new text', 'age': 78},\n",
       " {'name': 'Vera Rubin new text', 'age': 89},\n",
       " {'name': 'Sally Ride new text', 'age': 66})"
      ]
     },
     "execution_count": 15,
     "metadata": {},
     "output_type": "execute_result"
    }
   ],
   "source": [
    "tuple({'name':x.name+' new text', 'age': 2017 - x.born} for x in scientists)"
   ]
  },
  {
   "cell_type": "code",
   "execution_count": null,
   "metadata": {},
   "outputs": [],
   "source": []
  }
 ],
 "metadata": {
  "kernelspec": {
   "display_name": "Python 3",
   "language": "python",
   "name": "python3"
  },
  "language_info": {
   "codemirror_mode": {
    "name": "ipython",
    "version": 3
   },
   "file_extension": ".py",
   "mimetype": "text/x-python",
   "name": "python",
   "nbconvert_exporter": "python",
   "pygments_lexer": "ipython3",
   "version": "3.8.5"
  }
 },
 "nbformat": 4,
 "nbformat_minor": 4
}
